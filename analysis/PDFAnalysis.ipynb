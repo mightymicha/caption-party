{
 "cells": [
  {
   "cell_type": "markdown",
   "metadata": {},
   "source": [
    "## Imports"
   ]
  },
  {
   "cell_type": "code",
   "execution_count": 118,
   "metadata": {},
   "outputs": [],
   "source": [
    "#import os\n",
    "#import glob\n",
    "#import numpy as np\n",
    "#import math\n",
    "#import seaborn as sns\n",
    "#from itertools import chain\n",
    "#from wordcloud import WordCloud\n",
    "import sqlite3\n",
    "import pandas as pd\n",
    "import matplotlib.pylab as plt\n",
    "import nltk\n",
    "import pdftotext\n",
    "import re"
   ]
  },
  {
   "cell_type": "markdown",
   "metadata": {},
   "source": [
    "## Variables and IO"
   ]
  },
  {
   "cell_type": "code",
   "execution_count": 119,
   "metadata": {},
   "outputs": [],
   "source": [
    "parties = ['linke', 'spd', 'grüne', 'cdu', 'fdp', 'afd']\n",
    "elections = ['bt', 'eu']\n",
    "colors = {'linke': '#FFC0CB',\n",
    "          'grüne': '#42923bff',\n",
    "          'spd':   '#e2001aff',\n",
    "          'cdu':   '#252422ff',\n",
    "          'fdp':   '#ffec01ff',\n",
    "          'afd':   '#009ee0ff'}\n",
    "\n",
    "def get_pdf_text(party, election):\n",
    "    with open(\"../rsc/wahlprogramme/{0}_{1}.pdf\".format(party, election), \"rb\") as f:\n",
    "        pdf = pdftotext.PDF(f)\n",
    "        return \" \".join(pdf)"
   ]
  },
  {
   "cell_type": "markdown",
   "metadata": {},
   "source": [
    "## Text cleanup"
   ]
  },
  {
   "cell_type": "code",
   "execution_count": 120,
   "metadata": {},
   "outputs": [],
   "source": [
    "def get_filtered(text):\n",
    "    replaced = re.sub('\\W*-\\\\n\\W*', '', text)\n",
    "    replaced = re.sub('\\W*\\\\n\\W*', ' ', replaced)\n",
    "    replaced = re.sub('\\d+', ' ', replaced)\n",
    "    return re.sub('\\W+', ' ', replaced)"
   ]
  },
  {
   "cell_type": "markdown",
   "metadata": {},
   "source": [
    "## Stop words"
   ]
  },
  {
   "cell_type": "code",
   "execution_count": 135,
   "metadata": {},
   "outputs": [],
   "source": [
    "from nltk.corpus import stopwords\n",
    "stop = set(stopwords.words('german'))"
   ]
  },
  {
   "cell_type": "markdown",
   "metadata": {},
   "source": [
    "## Lemmatization"
   ]
  },
  {
   "cell_type": "code",
   "execution_count": 122,
   "metadata": {},
   "outputs": [],
   "source": [
    "from spacy.lang.de import lemmatizer\n",
    "from treetaggerwrapper import TreeTagger, TreeTaggerError\n",
    "from enchant import Dict\n",
    "dic = Dict(\"de_DE\")\n",
    "\n",
    "tagger = TreeTagger(TAGLANG='de')\n",
    "\n",
    "def lemmatize_spacy(word):\n",
    "    spacy_lower, spacy_cap = (None,None)\n",
    "    try:\n",
    "        spacy_lower = lemmatizer.LOOKUP[word.lower()]\n",
    "    except: pass\n",
    "    try:\n",
    "        spacy_cap = lemmatizer.LOOKUP[word.capitalize()]\n",
    "    except: pass\n",
    "    if spacy_cap is not None:\n",
    "        return spacy_cap\n",
    "    elif spacy_lower is not None:\n",
    "        return spacy_lower\n",
    "    else: return None\n",
    "    \n",
    "def lemmatize_tt(word):\n",
    "    wl, wc = word.lower(), word.capitalize()\n",
    "    tt_lower = tagger.tag_text([wl], tagonly=True)[0].split('\\t')[-1]\n",
    "    tt_cap = tagger.tag_text([wc], tagonly=True)[0].split('\\t')[-1]\n",
    "    if tt_cap != wc:\n",
    "        return tt_cap\n",
    "    elif tt_lower != wl:\n",
    "        return tt_lower\n",
    "    else: return None"
   ]
  },
  {
   "cell_type": "markdown",
   "metadata": {},
   "source": [
    "## Word filter"
   ]
  },
  {
   "cell_type": "code",
   "execution_count": 92,
   "metadata": {},
   "outputs": [],
   "source": [
    "def word_filter(word):\n",
    "    if word.lower() in stop or word.capitalize() in stop or len(word) <= 2 or not word.isalpha():\n",
    "        return None\n",
    "    spacey = lemmatize_spacy(word)\n",
    "    tt = lemmatize_tt(word)\n",
    "    if spacey is not None and tt is not None:\n",
    "        if spacey == tt:\n",
    "            return tt\n",
    "        else:\n",
    "            return spacey\n",
    "    if spacey is not None:\n",
    "        return spacey\n",
    "    if tt is not None:\n",
    "        return tt\n",
    "    if dic.check(word.capitalize()) or dic.check(word.lower()):\n",
    "        return word\n",
    "    if len(word) > 5 and word.istitle():\n",
    "        return word\n",
    "    return None"
   ]
  },
  {
   "cell_type": "markdown",
   "metadata": {},
   "source": [
    "## Start Processing Chain"
   ]
  },
  {
   "cell_type": "code",
   "execution_count": 64,
   "metadata": {},
   "outputs": [],
   "source": [
    "dic_raw = {party: {election: get_pdf_text(party, election) for election in ['bt', 'eu']} for party in parties}"
   ]
  },
  {
   "cell_type": "code",
   "execution_count": 129,
   "metadata": {},
   "outputs": [],
   "source": [
    "def corpus(party, election):\n",
    "    filtered = get_filtered(dic_raw[party][election])\n",
    "    for word in filtered.split():\n",
    "        result = word_filter(word)\n",
    "        if result is not None:\n",
    "            yield result\n",
    "        "
   ]
  },
  {
   "cell_type": "code",
   "execution_count": 133,
   "metadata": {},
   "outputs": [
    {
     "data": {
      "text/plain": [
       "<BarContainer object of 6 artists>"
      ]
     },
     "execution_count": 133,
     "metadata": {},
     "output_type": "execute_result"
    },
    {
     "data": {
      "image/png": "[encoded data removed]",
      "text/plain": [
       "<Figure size 432x288 with 2 Axes>"
      ]
     },
     "metadata": {
      "needs_background": "light"
     },
     "output_type": "display_data"
    }
   ],
   "source": [
    "# Corpus size\n",
    "plt.subplot(1,2,1)\n",
    "plt.ylabel(\"Words\")\n",
    "plt.xlabel(\"Party\")\n",
    "plt.title(\"Corpus size BT elections\")\n",
    "plt.bar(parties,\n",
    "        [len(list(corpus(party, 'bt'))) for party in parties],\n",
    "        color=[colors[party] for party in parties])\n",
    "plt.subplot(1,2,2)\n",
    "plt.ylabel(\"Words\")\n",
    "plt.xlabel(\"Party\")\n",
    "plt.title(\"Corpus size EU elections\")\n",
    "plt.bar(parties,\n",
    "        [len(list(corpus(party, 'eu'))) for party in parties],\n",
    "        color=[colors[party] for party in parties])"
   ]
  },
  {
   "cell_type": "code",
   "execution_count": 128,
   "metadata": {},
   "outputs": [],
   "source": [
    "def tfidf(fdists, name):\n",
    "    \"\"\"Term frequency - inverse document frequency.\"\"\"\n",
    "\n",
    "    def tf(token, fdist):\n",
    "        return 0.5 + (0.5 * fdist.get(token))/fdist.most_common(1)[0][1]\n",
    "\n",
    "    def idf(token):\n",
    "        return math.log2(len(corpus)/(sum(1 for key in fdists.keys() if fdists.get(key).get(token) is not None)))\n",
    "    fdist = fdists.get(name)\n",
    "    return [(token, tf(token, fdist) * idf(token)) for token in fdist.keys()]\n"
   ]
  },
  {
   "cell_type": "code",
   "execution_count": 134,
   "metadata": {},
   "outputs": [],
   "source": [
    "# Word frequency\n",
    "fdists = {party: {election: nltk.FreqDist(corpus(party, election)) for election in elections} for party in parties}"
   ]
  },
  {
   "cell_type": "code",
   "execution_count": null,
   "metadata": {},
   "outputs": [],
   "source": [
    "# TF-IDF\n",
    "tfidfs = {party: tfidf(fdists, party) for party in parties}\n",
    "#my_weights = {party: my_weighting(fdists, party) for party in parties}"
   ]
  },
  {
   "cell_type": "code",
   "execution_count": null,
   "metadata": {},
   "outputs": [],
   "source": [
    "fig, axs = plt.subplots(3, 2, figsize=(15, 30))\n",
    "axis = chain.from_iterable(zip(*axs))\n",
    "for party, ax in zip(parties, axis):\n",
    "    ax.axis(\"off\")\n",
    "    ax.set_title(party.upper())\n",
    "    word_weights = sorted(\n",
    "        tfidfs[party], reverse=True, key=lambda x: x[1])[:30]\n",
    "    wordcloud = WordCloud(background_color='white', max_font_size=25, height=100).generate_from_frequencies(\n",
    "        dict(word_weights))\n",
    "    ax.imshow(wordcloud, interpolation='bilinear')\n",
    "\n",
    "\n"
   ]
  },
  {
   "cell_type": "code",
   "execution_count": null,
   "metadata": {},
   "outputs": [],
   "source": []
  }
 ],
 "metadata": {
  "kernelspec": {
   "display_name": "Python 3",
   "language": "python",
   "name": "python3"
  },
  "language_info": {
   "codemirror_mode": {
    "name": "ipython",
    "version": 3
   },
   "file_extension": ".py",
   "mimetype": "text/x-python",
   "name": "python",
   "nbconvert_exporter": "python",
   "pygments_lexer": "ipython3",
   "version": "3.7.3"
  }
 },
 "nbformat": 4,
 "nbformat_minor": 2
}
