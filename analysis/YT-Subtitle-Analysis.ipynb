{
 "cells": [
  {
   "cell_type": "markdown",
   "metadata": {},
   "source": [
    "# YouTube Subtitle Analysis\n",
    "Here we go and analyze subtitles fetched from YouTube.\n",
    "\n",
    "## Imports\n",
    "Import matplotlib package and configure some plot drawing variables."
   ]
  },
  {
   "cell_type": "code",
   "execution_count": 17,
   "metadata": {},
   "outputs": [],
   "source": [
    "import matplotlib.pylab as plt\n",
    "from IPython.display import set_matplotlib_formats\n",
    "\n",
    "set_matplotlib_formats('pdf', 'png')\n",
    "plt.rcParams['savefig.dpi'] = 75\n",
    "\n",
    "plt.rcParams['figure.autolayout'] = False\n",
    "plt.rcParams['figure.figsize'] = 10, 6\n",
    "plt.rcParams['axes.labelsize'] = 18\n",
    "plt.rcParams['axes.titlesize'] = 20\n",
    "plt.rcParams['axes.axisbelow'] = True\n",
    "plt.rcParams['font.size'] = 16\n",
    "plt.rcParams['lines.linewidth'] = 2.0\n",
    "plt.rcParams['lines.markersize'] = 8\n",
    "plt.rcParams['legend.fontsize'] = 14\n",
    "\n",
    "plt.rcParams['text.usetex'] = True\n",
    "plt.rcParams['font.family'] = \"serif\"\n",
    "plt.rcParams['font.serif'] = \"cm\"\n",
    "plt.rcParams['text.latex.preamble'] = r\"\\usepackage{type1cm}\""
   ]
  },
  {
   "cell_type": "markdown",
   "metadata": {},
   "source": [
    "## Load data"
   ]
  },
  {
   "cell_type": "code",
   "execution_count": 18,
   "metadata": {},
   "outputs": [],
   "source": [
    "import sqlite3\n",
    "import pandas as pd\n",
    "import isodate\n",
    "\n",
    "conn = sqlite3.connect(\"../rsc/caption_party.db\")\n",
    "data = pd.read_sql(\"SELECT * from tab\", conn)\n",
    "\n",
    "data['publishedAt'] = pd.to_datetime(data['publishedAt']).dt.tz_convert('Europe/Berlin')\n",
    "data['updated'] = pd.to_datetime(data['updated']).dt.tz_convert('Europe/Berlin')\n",
    "\n",
    "data['viewCount'] = pd.to_numeric(data['viewCount'], downcast='unsigned')\n",
    "data['commentCount'] = pd.to_numeric(data['commentCount'], downcast='unsigned', errors='coerce')\n",
    "\n",
    "data['tags'] = data['tags'].apply(lambda t: t.split(\"'\")[1::2])\n",
    "data['duration'] = data['duration'].apply(lambda t: isodate.parse_duration(t).total_seconds())\n",
    "\n",
    "no_subs_ids = data['subtitle'].apply(lambda x: len(x) <= 10)\n",
    "# data.loc[no_subs_ids, 'subtitle'] = data.loc[no_subs_ids, 'description']\n",
    "\n",
    "data.set_index('videoId', inplace=True)"
   ]
  },
  {
   "cell_type": "markdown",
   "metadata": {},
   "source": [
    "## Variables\n",
    "### Dates and periods"
   ]
  },
  {
   "cell_type": "code",
   "execution_count": 19,
   "metadata": {},
   "outputs": [],
   "source": [
    "from datetime import datetime as time, timedelta\n",
    "import pytz\n",
    "\n",
    "cest = pytz.timezone(\"Europe/Berlin\")\n",
    "\n",
    "bt_election = time.fromisoformat('2017-09-24').replace(tzinfo=cest)\n",
    "eu_election = time.fromisoformat('2019-05-26').replace(tzinfo=cest)\n",
    "\n",
    "bt_start = bt_election - timedelta(days=84)\n",
    "eu_start = eu_election - timedelta(days=84)\n",
    "bt_end = bt_election + timedelta(days=84)\n",
    "eu_end = eu_election + timedelta(days=84)\n",
    "\n",
    "bt_period = (bt_start <= data['publishedAt']) & (data['publishedAt'] <= bt_election)\n",
    "eu_period = (eu_start <= data['publishedAt']) & (data['publishedAt'] <= eu_election)\n",
    "\n",
    "bt_data = data[bt_period]\n",
    "eu_data = data[eu_period]"
   ]
  },
  {
   "cell_type": "markdown",
   "metadata": {},
   "source": [
    "### Parties, elections and states"
   ]
  },
  {
   "cell_type": "code",
   "execution_count": 20,
   "metadata": {},
   "outputs": [],
   "source": [
    "parties = ['union', 'spd', 'afd', 'fdp', 'linke', 'grüne']\n",
    "elections = ['bt', 'eu']\n",
    "new_states = ['BB', 'MV', 'SN', 'ST', 'TH']\n",
    "old_states = ['BW', 'BY', 'HB', 'HH', 'HE', 'NI', 'NW', 'RP', 'SL', 'SH']"
   ]
  },
  {
   "cell_type": "markdown",
   "metadata": {},
   "source": [
    "### Colors"
   ]
  },
  {
   "cell_type": "code",
   "execution_count": 21,
   "metadata": {},
   "outputs": [],
   "source": [
    "import matplotlib.colors as mc\n",
    "import colorsys\n",
    "\n",
    "def scale_color(color, amount=0.5):\n",
    "    c_hls = colorsys.rgb_to_hls(*mc.to_rgb(color))\n",
    "    c_rgb = colorsys.hls_to_rgb(c_hls[0], 1 - amount * (1 - c_hls[1]), c_hls[2])\n",
    "    return mc.to_hex(c_rgb)\n",
    "\n",
    "colors = {\n",
    "    'union': '#252422',\n",
    "    'spd':   '#e2001a',\n",
    "    'afd':   '#009ee0',\n",
    "    'fdp':   '#ffec01',\n",
    "    'linke': '#ffa7b6',\n",
    "    'grüne': '#42923b'}\n",
    "\n",
    "colors_light = {key: scale_color(color, 0.35) for key, color in colors.items()}"
   ]
  },
  {
   "cell_type": "markdown",
   "metadata": {},
   "source": [
    "## Methods"
   ]
  },
  {
   "cell_type": "markdown",
   "metadata": {},
   "source": [
    "### Cleaning and tokenization\n",
    "\n",
    "2. Replaces `<letter>-<letter>` by `<letter><letter>`\n",
    "2. Replaces `<letter>*<letter>` by `<letter><letter>`\n",
    "3. Replaces `<non-words>-<newline><non-words>` by nothing\n",
    "4. Replaces `<non-words><newline><non-words>` by single space\n",
    "5. Replaces `<non-words>` by single space"
   ]
  },
  {
   "cell_type": "code",
   "execution_count": 22,
   "metadata": {},
   "outputs": [],
   "source": [
    "import re\n",
    "\n",
    "def clean_and_tokenize(text, remove_numbers=False):\n",
    "    if remove_numbers:\n",
    "        replaced = re.sub(r'\\d+', ' ', text)\n",
    "    else:\n",
    "        replaced = text\n",
    "    replaced = re.sub(r'(\\w)-(\\w)', r'\\1\\2', replaced)\n",
    "    replaced = re.sub(r'(\\w)\\*(\\w)', r'\\1\\2', replaced)\n",
    "    replaced = re.sub(r'\\W*-\\\\n\\W*', '', replaced)\n",
    "    replaced = re.sub(r'\\W*\\\\n\\W*', ' ', replaced)\n",
    "    replaced = re.sub(r'\\W+', ' ', replaced)\n",
    "    return replaced.split()"
   ]
  },
  {
   "cell_type": "markdown",
   "metadata": {},
   "source": [
    "### Stop words"
   ]
  },
  {
   "cell_type": "code",
   "execution_count": 23,
   "metadata": {},
   "outputs": [],
   "source": [
    "from nltk.corpus import stopwords\n",
    "\n",
    "stop = set(stopwords.words('german'))\n",
    "\n",
    "def test_stop_word(word):\n",
    "    return (word.lower() in stop) or (word.capitalize() in stop)"
   ]
  },
  {
   "cell_type": "markdown",
   "metadata": {},
   "source": [
    "### Dictionary"
   ]
  },
  {
   "cell_type": "code",
   "execution_count": 24,
   "metadata": {},
   "outputs": [],
   "source": [
    "from enchant import Dict\n",
    "\n",
    "dic = Dict(\"de_DE\")\n",
    "\n",
    "def test_dictionary(word):\n",
    "    return dic.check(word.lower()) or dic.check(word.capitalize())"
   ]
  },
  {
   "cell_type": "markdown",
   "metadata": {},
   "source": [
    "### Lemmatization"
   ]
  },
  {
   "cell_type": "markdown",
   "metadata": {},
   "source": [
    "#### Spacy"
   ]
  },
  {
   "cell_type": "code",
   "execution_count": 25,
   "metadata": {},
   "outputs": [],
   "source": [
    "from spacy.lang.de import lemmatizer\n",
    "\n",
    "def lemmatize_spacy(word):\n",
    "    try:\n",
    "        return lemmatizer.LOOKUP[word]\n",
    "    except: pass\n",
    "    \n",
    "    # Try to lemmatize lower word version\n",
    "    try:\n",
    "        return lemmatizer.LOOKUP[word.lower()]\n",
    "    except: pass\n",
    "    \n",
    "    # Try to lemmatize capitalized word version\n",
    "    try:\n",
    "        return lemmatizer.LOOKUP[word.capitalize()]\n",
    "    except: pass"
   ]
  },
  {
   "cell_type": "markdown",
   "metadata": {},
   "source": [
    "#### Treetagger"
   ]
  },
  {
   "cell_type": "code",
   "execution_count": 26,
   "metadata": {},
   "outputs": [],
   "source": [
    "from treetaggerwrapper import TreeTagger\n",
    "\n",
    "tagger = TreeTagger(TAGLANG='de')\n",
    "\n",
    "def lemmatize_tt(word):\n",
    "    \n",
    "    def lemmatize(w):\n",
    "        tt_lower = tagger.tag_text([w], tagonly=True)[0].split('\\t')[-1]\n",
    "        if tt_lower != w:\n",
    "            return tt_lower.split(\"|\")[-1]\n",
    "    \n",
    "    lem = lemmatize(word)\n",
    "    if lem is not None:\n",
    "        return lem\n",
    "    \n",
    "    # Try to lemmatize lower word version\n",
    "    lem = lemmatize(word.lower())\n",
    "    if lem is not None:\n",
    "        return lem\n",
    "    \n",
    "    # Try to lemmatize capitalized word version\n",
    "    lem = lemmatize(word.capitalize())\n",
    "    if lem is not None:\n",
    "        return lem"
   ]
  },
  {
   "cell_type": "markdown",
   "metadata": {},
   "source": [
    "#### Lemmatizer combiner\n",
    "- If one lemmatizer exclusively modifies the word, it returns this lemmatized version\n",
    "- If both lemmatizer modify the word, it returns the spaCy version\n",
    "- If neither one modifies the word, it returns just the word"
   ]
  },
  {
   "cell_type": "code",
   "execution_count": 27,
   "metadata": {},
   "outputs": [],
   "source": [
    "def lemmatize_combined(word):\n",
    "    sp = lemmatize_spacy(word)\n",
    "    tt = lemmatize_tt(word)\n",
    "    if sp is not None:\n",
    "        return sp\n",
    "    elif tt is not None:\n",
    "        return tt\n",
    "    else:\n",
    "        return word"
   ]
  },
  {
   "cell_type": "markdown",
   "metadata": {},
   "source": [
    "### Visualization"
   ]
  },
  {
   "cell_type": "code",
   "execution_count": 28,
   "metadata": {},
   "outputs": [],
   "source": [
    "from matplotlib.ticker import MaxNLocator\n",
    "from itertools import chain\n",
    "from IPython.display import display_html\n",
    "import pandas as pd\n",
    "\n",
    "def plot_bar(data, label):\n",
    "    fig = plt.figure()\n",
    "    ax = fig.gca()\n",
    "    ax.yaxis.set_major_locator(MaxNLocator(integer=True))\n",
    "    ax.spines['top'].set_visible(False)\n",
    "    ax.spines['right'].set_visible(False)\n",
    "    ax.grid(color='gray', linestyle='dashed', alpha=0.3, axis='y')\n",
    "    ax.set_ylabel(label);\n",
    "\n",
    "    color_map = [colors[party] for party in parties]\n",
    "    ax.bar(parties, channel_count[parties], color=color_map, width=.8)\n",
    "    return fig\n",
    "\n",
    "\n",
    "def plot_compare_bar(bt_data, eu_data, label):\n",
    "    \"\"\" Returns a figure where two grouped DataFrames are compared in a bar chart.\n",
    "    \"\"\"\n",
    "    fig = plt.figure()\n",
    "    ax = fig.gca()\n",
    "    ax.yaxis.set_major_locator(MaxNLocator(integer=True))\n",
    "    \n",
    "    ax.spines['top'].set_visible(False)\n",
    "    ax.spines['right'].set_visible(False)\n",
    "    \n",
    "    ax.set_ylabel(label);\n",
    "    ax.grid(color='gray', linestyle='dashed', alpha=0.3, axis='y')\n",
    "    color_map_dark = [colors[party] for party in parties]\n",
    "    color_map_light = [colors_light[party] for party in parties]\n",
    "    ax.bar(parties, [bt_data[party] for party in parties], color=color_map_dark, width=-.4, align='edge', label='Bundestag election')\n",
    "    ax.bar(parties, [eu_data[party] for party in parties], color=color_map_light, width=.4, align='edge', label='European election')\n",
    "    return fig\n",
    "\n",
    "\n",
    "def generate_wordcloud(weight_matrix, title):\n",
    "    \"\"\" The following function takes a weight matrix as an input with parties as columns and words as indices.\n",
    "    \"\"\"\n",
    "    fig, axs = plt.subplots(3, 2, figsize=(18, 15))\n",
    "    plt.suptitle(title, size=25, weight='bold')\n",
    "    axis = chain.from_iterable(zip(*axs))\n",
    "    for party, ax in zip(weight_matrix.columns, axis):\n",
    "        # Visuals\n",
    "        ax.get_xaxis().set_ticks([])\n",
    "        ax.get_yaxis().set_ticks([])\n",
    "        ax.set_title(party.upper(), size=20)\n",
    "        color_func = lambda *args, **kwargs: colors[party]\n",
    "        # Weights and Clourd\n",
    "        word_weights = top_n(weight_matrix, party, 30).iloc[:,0].to_dict()\n",
    "        word_cloud = WordCloud(background_color='white', height=500, width=1000, color_func=color_func)\n",
    "        image = word_cloud.generate_from_frequencies(word_weights)\n",
    "        ax.imshow(image, interpolation='bilinear')\n",
    "    return fig\n",
    "\n",
    "        \n",
    "def display_side_by_side(*args):\n",
    "    \"\"\" Displays mutiple panda DataFrames side by side.\n",
    "    \"\"\"\n",
    "    html_str=''\n",
    "    for df in args:\n",
    "        html_str+=df.to_html()\n",
    "    display_html(html_str.replace('table','table style=\"display:inline\"'),raw=True)\n",
    "    \n",
    "    \n",
    "def top_n(df, column, n):\n",
    "    \"\"\" Sorts a pandas DataFrame and returns the first n entries of a specific column.\n",
    "    \"\"\"\n",
    "    return df[[column]].sort_values(ascending=False, by=column).iloc[:n]"
   ]
  },
  {
   "cell_type": "markdown",
   "metadata": {},
   "source": [
    "### Corpus"
   ]
  },
  {
   "cell_type": "code",
   "execution_count": 29,
   "metadata": {},
   "outputs": [],
   "source": [
    "def get_yt_text(party, election):\n",
    "    \"\"\" Returns a data slice containing videos from a specific party and electoral campaign period\n",
    "    \"\"\"\n",
    "    party_vec = (data['party'] == party)\n",
    "    if election == 'bt':\n",
    "        return data[bt_period & party_vec]['subtitle']\n",
    "    elif election == 'eu':\n",
    "        return data[eu_period & party_vec]['subtitle']\n",
    "    else: \n",
    "        return data[party_vec]['subtitle']\n",
    "                \n",
    "        \n",
    "def preprocess(raw_text,\n",
    "               filters=[],\n",
    "               lemmatize=True,\n",
    "               lowercase=True,\n",
    "               min_chars=0,\n",
    "               remove_numbers=False):\n",
    "    \"\"\" Traversed some string through a preprocessing pipeline: \n",
    "    min chars, stop word removal, optional filters, lemmatization and lowercasing\n",
    "    \"\"\"\n",
    "        \n",
    "    # Cleaning & tokenization\n",
    "    tokens = clean_and_tokenize(raw_text, remove_numbers=remove_numbers)\n",
    "    \n",
    "    filtered_tokens = []\n",
    "    for token in tokens:\n",
    "        # Min char removal\n",
    "        if len(token) < min_chars:\n",
    "            continue\n",
    "            \n",
    "        # Stop word removal\n",
    "        if test_stop_word(token):\n",
    "            continue\n",
    "            \n",
    "        # Additional filters \n",
    "        if not all(f(token) for f in filters):\n",
    "            continue \n",
    "            \n",
    "        # Lemmatization\n",
    "        lem_token = token\n",
    "        if lemmatize:\n",
    "            lem_token = lemmatize_combined(token)\n",
    "        \n",
    "        # Lowercasing\n",
    "        if lowercase:\n",
    "            lem_token = lem_token.lower()\n",
    "            \n",
    "        filtered_tokens.append(lem_token)\n",
    "        \n",
    "    return filtered_tokens\n",
    "\n",
    "\n",
    "def corpus(party, election, merge=False):\n",
    "    video_subs = get_yt_text(party, election)\n",
    "    processed_subs = []\n",
    "    for sub in video_subs:\n",
    "        lemma_list = preprocess(sub, min_chars=4)\n",
    "        processed_subs.append(lemma_list)\n",
    "    if merge:\n",
    "        return [lemma \n",
    "                for lemma_list in processed_subs\n",
    "                for lemma in lemma_list]\n",
    "    else:\n",
    "        return processed_subs"
   ]
  },
  {
   "cell_type": "markdown",
   "metadata": {},
   "source": [
    "## Plotting\n",
    "### Corpus size"
   ]
  },
  {
   "cell_type": "markdown",
   "metadata": {},
   "source": [
    "### Get corpus"
   ]
  },
  {
   "cell_type": "code",
   "execution_count": 30,
   "metadata": {},
   "outputs": [],
   "source": [
    "corpus_bt = {party: corpus(party, 'bt', merge=True) for party in parties}\n",
    "corpus_eu = {party: corpus(party, 'eu', merge=True) for party in parties}"
   ]
  },
  {
   "cell_type": "code",
   "execution_count": 31,
   "metadata": {
    "scrolled": false
   },
   "outputs": [
    {
     "data": {
      "application/pdf": "[encoded data removed]",
      "image/png": "[encoded data removed]",
      "text/plain": [
       "<Figure size 720x432 with 1 Axes>"
      ]
     },
     "metadata": {
      "needs_background": "light"
     },
     "output_type": "display_data"
    }
   ],
   "source": [
    "bt_sub_words = {party: len(corpus_bt[party]) for party in parties}\n",
    "eu_sub_words = {party: len(corpus_eu[party]) for party in parties}\n",
    "\n",
    "fig = plot_compare_bar(bt_sub_words, eu_sub_words, 'Word count')\n",
    "\n",
    "fig.savefig('outputs/yt-party-words.pdf', bbox_inches = 'tight', pad_inches = 0)"
   ]
  },
  {
   "cell_type": "markdown",
   "metadata": {},
   "source": [
    "## Topic analysis algorithms\n",
    "### tf-idf"
   ]
  },
  {
   "cell_type": "code",
   "execution_count": null,
   "metadata": {},
   "outputs": [],
   "source": [
    "def distinct(df, n=10):\n",
    "    \"\"\" Takes a pandas matrix, where rows are words and columns parties, \n",
    "    and returns the n highest distinct words.\n",
    "    \"\"\"\n",
    "    matrix = df.copy()\n",
    "    parties = matrix.columns\n",
    "    entries = {party: [] for party in parties}\n",
    "    while any(map(lambda key: len(entries[key]) < n, entries)):\n",
    "        next_party = matrix.max().idxmax()\n",
    "        word = matrix[next_party].idxmax()\n",
    "        matrix.drop(word, inplace=True)\n",
    "        entries[next_party].append(word)\n",
    "        if len(entries[next_party]) >= n:\n",
    "            matrix.drop(next_party, axis=1, inplace=True)\n",
    "    return pd.DataFrame(entries)"
   ]
  },
  {
   "cell_type": "code",
   "execution_count": null,
   "metadata": {},
   "outputs": [],
   "source": [
    "from sklearn.feature_extraction.text import TfidfVectorizer\n",
    "\n",
    "v_bt = TfidfVectorizer(sublinear_tf=True, strip_accents='unicode')\n",
    "x_bt = v_bt.fit_transform(\" \".join(corpus_bt[party]) for party in parties)\n",
    "df_bt = pd.DataFrame(x_bt.T.toarray(), index=v_bt.get_feature_names(), columns=parties)\n",
    "display_side_by_side(*(top_n(df_bt, party, 15) for party in parties))"
   ]
  },
  {
   "cell_type": "code",
   "execution_count": null,
   "metadata": {},
   "outputs": [],
   "source": [
    "distinct(df_bt, 15)"
   ]
  },
  {
   "cell_type": "code",
   "execution_count": null,
   "metadata": {},
   "outputs": [],
   "source": [
    "v_eu = TfidfVectorizer(sublinear_tf=True, strip_accents='unicode', norm='l2')\n",
    "x_eu = v_eu.fit_transform(\" \".join(corpus_eu[party]) for party in parties)\n",
    "df_eu = pd.DataFrame(x_eu.T.toarray(), index=v_eu.get_feature_names(), columns=parties)\n",
    "display_side_by_side(*(top_n(df_eu, party, 15) for party in parties))"
   ]
  },
  {
   "cell_type": "code",
   "execution_count": null,
   "metadata": {},
   "outputs": [],
   "source": [
    "distinct(df_eu)"
   ]
  },
  {
   "cell_type": "code",
   "execution_count": null,
   "metadata": {},
   "outputs": [],
   "source": [
    "from wordcloud import WordCloud\n",
    "\n",
    "fig = generate_wordcloud(df_bt, \"TF-IDF - 2016 Bundestag election\")\n",
    "fig.savefig('outputs/yt-tfidf-bt-wordcloud.pdf', bbox_inches = 'tight', pad_inches = 0)"
   ]
  },
  {
   "cell_type": "code",
   "execution_count": null,
   "metadata": {},
   "outputs": [],
   "source": [
    "fig = generate_wordcloud(df_eu, \"TF-IDF - 2019 European election\")\n",
    "fig.savefig('outputs/yt-tfidf-eu-wordcloud.pdf', bbox_inches = 'tight', pad_inches = 0)"
   ]
  },
  {
   "cell_type": "markdown",
   "metadata": {},
   "source": [
    "## LDA"
   ]
  },
  {
   "cell_type": "code",
   "execution_count": null,
   "metadata": {},
   "outputs": [],
   "source": [
    "from tmtoolkit.topicmod import tm_lda\n",
    "from tmtoolkit.topicmod.visualize import plot_eval_results\n",
    "from tmtoolkit.topicmod.evaluate import results_by_parameter\n",
    "\n"
   ]
  },
  {
   "cell_type": "markdown",
   "metadata": {},
   "source": [
    "### Tag based"
   ]
  },
  {
   "cell_type": "code",
   "execution_count": null,
   "metadata": {},
   "outputs": [],
   "source": [
    "data['tags'] = data['tags'].apply(lambda t: t.lower().split(\"'\")[1::2])\n",
    "\n",
    "climate_tags = ['klima', 'klimaschutz', 'umwelt', 'co2', 'klimaerwärmung', 'klimawandel']\n",
    "refugee_tags = ['flüchtling', 'einwanderung', 'migrant', 'migranten', 'ausländer', 'zuwanderung', 'flucht']\n",
    "economy_tags = ['wirtschaft', 'handelsabkommen']\n",
    "\n",
    "def get_videos_with_certain_tags(tags):\n",
    "    return data['tags'].apply(lambda vtags: any([t in vtags for t in tags]))"
   ]
  },
  {
   "cell_type": "code",
   "execution_count": null,
   "metadata": {},
   "outputs": [],
   "source": [
    "climate_ids = get_videos_with_certain_tags(climate_tags)\n",
    "refugee_ids = get_videos_with_certain_tags(refugee_tags)\n",
    "economy_ids = get_videos_with_certain_tags(economy_tags)\n",
    "print(\"Climate: \", len(climate_ids), \" Refugee: \", len(refugee_ids), \" Economy: \", len(economy_ids))"
   ]
  },
  {
   "cell_type": "code",
   "execution_count": null,
   "metadata": {},
   "outputs": [],
   "source": [
    "tag_corpus = data[climate_ids | refugee_ids | economy_ids]['subtitle'].apply(lambda sub: preprocess(sub))"
   ]
  },
  {
   "cell_type": "code",
   "execution_count": null,
   "metadata": {},
   "outputs": [],
   "source": [
    "v_vids = TfidfVectorizer(sublinear_tf=True, \n",
    "                         strip_accents='unicode', \n",
    "                         preprocessor=lambda x: x, \n",
    "                         tokenizer=lambda x: x)\n",
    "x_vids = v_vids.fit_transform([sub for sub in tag_corpus])\n",
    "df_vids = pd.DataFrame(x_vids.T.toarray(), index=v_vids.get_feature_names(), columns=tag_corpus.index)\n",
    "tags = []\n",
    "for vid in df_vids.columns:\n",
    "    tags.append(df_vids.sort_values(vid)[-1:])\n",
    "tags"
   ]
  },
  {
   "cell_type": "code",
   "execution_count": null,
   "metadata": {},
   "outputs": [],
   "source": [
    "from sklearn.feature_extraction.text import CountVectorizer\n",
    "cv = CountVectorizer(tokenizer=lambda x: x, preprocessor=lambda x: x)\n",
    "x = cv.fit_transform(corpus)"
   ]
  },
  {
   "cell_type": "code",
   "execution_count": null,
   "metadata": {},
   "outputs": [],
   "source": [
    "from sklearn.decomposition import LatentDirichletAllocation as LDA\n",
    "\n",
    "def print_topics(model, count_vectorizer, n_top_words):\n",
    "    words = count_vectorizer.get_feature_names()\n",
    "    for topic_idx, topic in enumerate(model.components_):\n",
    "        print(\"\\nTopic #%d:\" % topic_idx)\n",
    "        print(\" \".join([words[i] for i in topic.argsort()[:-n_top_words - 1:-1]]))\n",
    "        \n",
    "        \n",
    "lda = LDA(n_components=10, max_iter=20)\n",
    "lda.fit(x)\n",
    "print_topics(lda, cv, 20)"
   ]
  },
  {
   "cell_type": "code",
   "execution_count": null,
   "metadata": {},
   "outputs": [],
   "source": []
  }
 ],
 "metadata": {
  "kernelspec": {
   "display_name": "GraphKernel",
   "language": "python",
   "name": "graphkernel"
  },
  "language_info": {
   "codemirror_mode": {
    "name": "ipython",
    "version": 3
   },
   "file_extension": ".py",
   "mimetype": "text/x-python",
   "name": "python",
   "nbconvert_exporter": "python",
   "pygments_lexer": "ipython3",
   "version": "3.7.3"
  }
 },
 "nbformat": 4,
 "nbformat_minor": 2
}
